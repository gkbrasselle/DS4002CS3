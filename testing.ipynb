{
 "cells": [
  {
   "cell_type": "markdown",
   "metadata": {},
   "source": [
    "Testing the celeb recognition package\n",
    "\n",
    "https://pypi.org/project/celeb-detector/"
   ]
  },
  {
   "cell_type": "code",
   "execution_count": 8,
   "metadata": {},
   "outputs": [
    {
     "ename": "AttributeError",
     "evalue": "module 'celeb_detector' has no attribute 'celeb_recognition'",
     "output_type": "error",
     "traceback": [
      "\u001b[0;31m---------------------------------------------------------------------------\u001b[0m",
      "\u001b[0;31mAttributeError\u001b[0m                            Traceback (most recent call last)",
      "Cell \u001b[0;32mIn[8], line 5\u001b[0m\n\u001b[1;32m      3\u001b[0m \u001b[38;5;28;01mimport\u001b[39;00m \u001b[38;5;21;01mceleb_detector\u001b[39;00m \n\u001b[1;32m      4\u001b[0m img_path \u001b[38;5;241m=\u001b[39m \u001b[38;5;124m'\u001b[39m\u001b[38;5;124msample_image.jpg\u001b[39m\u001b[38;5;124m'\u001b[39m \n\u001b[0;32m----> 5\u001b[0m \u001b[43mceleb_detector\u001b[49m\u001b[38;5;241;43m.\u001b[39;49m\u001b[43mceleb_recognition\u001b[49m(img_path)\n",
      "\u001b[0;31mAttributeError\u001b[0m: module 'celeb_detector' has no attribute 'celeb_recognition'"
     ]
    }
   ],
   "source": [
    "# install necessary libraries:\n",
    "\n",
    "import celeb_detector \n",
    "img_path = 'sample_image.jpg' \n",
    "celeb_detector.celeb_recognition(img_path)"
   ]
  },
  {
   "cell_type": "markdown",
   "metadata": {},
   "source": [
    "Ditching this & trying something else:\n",
    "\n",
    "https://www.kaggle.com/code/vinayakshanawad/celebrity-face-recognition-vggface-model/notebook\n"
   ]
  },
  {
   "cell_type": "code",
   "execution_count": 6,
   "metadata": {},
   "outputs": [],
   "source": [
    "import h5py\n",
    "import numpy as np\n",
    "import matplotlib.pyplot as plt\n",
    "\n",
    "from sklearn.metrics import precision_recall_curve,accuracy_score,f1_score,precision_score,recall_score"
   ]
  },
  {
   "cell_type": "code",
   "execution_count": 9,
   "metadata": {},
   "outputs": [
    {
     "ename": "FileNotFoundError",
     "evalue": "[Errno 2] No such file or directory: '/kaggle/input/pins-face-recognition/105_classes_pins_dataset'",
     "output_type": "error",
     "traceback": [
      "\u001b[0;31m---------------------------------------------------------------------------\u001b[0m",
      "\u001b[0;31mFileNotFoundError\u001b[0m                         Traceback (most recent call last)",
      "Cell \u001b[0;32mIn[9], line 29\u001b[0m\n\u001b[1;32m     26\u001b[0m source_dir \u001b[38;5;241m=\u001b[39m os\u001b[38;5;241m.\u001b[39mpath\u001b[38;5;241m.\u001b[39mjoin(\u001b[38;5;124m'\u001b[39m\u001b[38;5;124m/kaggle\u001b[39m\u001b[38;5;124m'\u001b[39m, \u001b[38;5;124m'\u001b[39m\u001b[38;5;124minput\u001b[39m\u001b[38;5;124m'\u001b[39m, \u001b[38;5;124m'\u001b[39m\u001b[38;5;124mpins-face-recognition\u001b[39m\u001b[38;5;124m'\u001b[39m, \u001b[38;5;124m'\u001b[39m\u001b[38;5;124m105_classes_pins_dataset\u001b[39m\u001b[38;5;124m'\u001b[39m)\n\u001b[1;32m     28\u001b[0m \u001b[38;5;66;03m# Load metadata\u001b[39;00m\n\u001b[0;32m---> 29\u001b[0m metadata \u001b[38;5;241m=\u001b[39m \u001b[43mload_metadata\u001b[49m\u001b[43m(\u001b[49m\u001b[43msource_dir\u001b[49m\u001b[43m)\u001b[49m\n\u001b[1;32m     30\u001b[0m \u001b[38;5;28mprint\u001b[39m(\u001b[38;5;124mf\u001b[39m\u001b[38;5;124m\"\u001b[39m\u001b[38;5;124mLoaded metadata for \u001b[39m\u001b[38;5;132;01m{\u001b[39;00m\u001b[38;5;28mlen\u001b[39m(metadata)\u001b[38;5;132;01m}\u001b[39;00m\u001b[38;5;124m images.\u001b[39m\u001b[38;5;124m\"\u001b[39m)\n",
      "Cell \u001b[0;32mIn[9], line 18\u001b[0m, in \u001b[0;36mload_metadata\u001b[0;34m(path)\u001b[0m\n\u001b[1;32m     16\u001b[0m \u001b[38;5;28;01mdef\u001b[39;00m \u001b[38;5;21mload_metadata\u001b[39m(path):\n\u001b[1;32m     17\u001b[0m     metadata \u001b[38;5;241m=\u001b[39m []\n\u001b[0;32m---> 18\u001b[0m     \u001b[38;5;28;01mfor\u001b[39;00m i \u001b[38;5;129;01min\u001b[39;00m \u001b[43mos\u001b[49m\u001b[38;5;241;43m.\u001b[39;49m\u001b[43mlistdir\u001b[49m\u001b[43m(\u001b[49m\u001b[43mpath\u001b[49m\u001b[43m)\u001b[49m:\n\u001b[1;32m     19\u001b[0m         \u001b[38;5;28;01mfor\u001b[39;00m f \u001b[38;5;129;01min\u001b[39;00m os\u001b[38;5;241m.\u001b[39mlistdir(os\u001b[38;5;241m.\u001b[39mpath\u001b[38;5;241m.\u001b[39mjoin(path, i)):\n\u001b[1;32m     20\u001b[0m             ext \u001b[38;5;241m=\u001b[39m os\u001b[38;5;241m.\u001b[39mpath\u001b[38;5;241m.\u001b[39msplitext(f)[\u001b[38;5;241m1\u001b[39m]\n",
      "\u001b[0;31mFileNotFoundError\u001b[0m: [Errno 2] No such file or directory: '/kaggle/input/pins-face-recognition/105_classes_pins_dataset'"
     ]
    }
   ],
   "source": [
    "import os\n",
    "import numpy as np\n",
    "\n",
    "class IdentityMetadata:\n",
    "    def __init__(self, base, name, file):\n",
    "        self.base = base\n",
    "        self.name = name  # identity name\n",
    "        self.file = file  # image file name\n",
    "\n",
    "    def __repr__(self):\n",
    "        return self.image_path()\n",
    "\n",
    "    def image_path(self):\n",
    "        return os.path.join(self.base, self.name, self.file) \n",
    "    \n",
    "def load_metadata(path):\n",
    "    metadata = []\n",
    "    for i in os.listdir(path):\n",
    "        for f in os.listdir(os.path.join(path, i)):\n",
    "            ext = os.path.splitext(f)[1]\n",
    "            if ext.lower() in ['.jpg', '.jpeg']:\n",
    "                metadata.append(IdentityMetadata(path, i, f))\n",
    "    return np.array(metadata)\n",
    "\n",
    "# Define the dataset path\n",
    "source_dir = os.path.join('/kaggle', 'input', 'pins-face-recognition', '105_classes_pins_dataset')\n",
    "\n",
    "# Load metadata\n",
    "metadata = load_metadata(source_dir)\n",
    "print(f\"Loaded metadata for {len(metadata)} images.\")"
   ]
  },
  {
   "cell_type": "code",
   "execution_count": 13,
   "metadata": {},
   "outputs": [
    {
     "name": "stdout",
     "output_type": "stream",
     "text": [
      "Fetching images for Tom Hanks...\n",
      "No IMDb profile found for Tom Hanks.\n",
      "Fetching images for Scarlett Johansson...\n",
      "No IMDb profile found for Scarlett Johansson.\n",
      "Fetching images for Will Smith...\n",
      "No IMDb profile found for Will Smith.\n"
     ]
    }
   ],
   "source": [
    "import os\n",
    "import requests\n",
    "from bs4 import BeautifulSoup\n",
    "import shutil\n",
    "import time\n",
    "\n",
    "def create_folder(folder_name):\n",
    "    if not os.path.exists(folder_name):\n",
    "        os.makedirs(folder_name)\n",
    "\n",
    "def get_celebrity_image_urls(celeb_name):\n",
    "    search_url = f\"https://www.imdb.com/find?q={celeb_name.replace(' ', '+')}&s=nm\"\n",
    "    headers = {\n",
    "        'User-Agent': 'Mozilla/5.0 (Windows NT 10.0; Win64; x64) AppleWebKit/537.36 (KHTML, like Gecko) Chrome/91.0.4472.124 Safari/537.36'\n",
    "    }\n",
    "    \n",
    "    response = requests.get(search_url, headers=headers)\n",
    "    \n",
    "    if response.status_code != 200:\n",
    "        print(f\"Failed to retrieve search results for {celeb_name}. Status code: {response.status_code}\")\n",
    "        return []\n",
    "\n",
    "    soup = BeautifulSoup(response.text, 'html.parser')\n",
    "\n",
    "    # Find the first result's link to the celebrity profile\n",
    "    result = soup.find('td', class_='result_text')\n",
    "    \n",
    "    if result and result.a:\n",
    "        celeb_link = \"https://www.imdb.com\" + result.a['href']\n",
    "        print(f\"Found profile for {celeb_name}: {celeb_link}\")\n",
    "    else:\n",
    "        print(f\"No IMDb profile found for {celeb_name}.\")\n",
    "        return []\n",
    "\n",
    "    celeb_response = requests.get(celeb_link, headers=headers)\n",
    "\n",
    "    if celeb_response.status_code != 200:\n",
    "        print(f\"Failed to retrieve profile for {celeb_name}. Status code: {celeb_response.status_code}\")\n",
    "        return []\n",
    "\n",
    "    celeb_soup = BeautifulSoup(celeb_response.text, 'html.parser')\n",
    "\n",
    "    # Fetch images from the profile page\n",
    "    image_urls = []\n",
    "    \n",
    "    img_tags = celeb_soup.find_all('img')\n",
    "    for img_tag in img_tags:\n",
    "        img_url = img_tag.get('src')\n",
    "        if img_url and 'media' in img_url and img_url not in image_urls:\n",
    "            image_urls.append(img_url)\n",
    "    \n",
    "    # Limit to a few images to avoid excess requests\n",
    "    return image_urls[:5]\n",
    "\n",
    "def download_images(celeb_name, image_urls):\n",
    "    celeb_folder = os.path.join('celebrity_images', celeb_name)\n",
    "    create_folder(celeb_folder)\n",
    "    for idx, img_url in enumerate(image_urls):\n",
    "        try:\n",
    "            img_response = requests.get(img_url, stream=True)\n",
    "            img_filename = os.path.join(celeb_folder, f\"{celeb_name.replace(' ', '_')}_{idx+1}.jpg\")\n",
    "            if img_response.status_code == 200:\n",
    "                with open(img_filename, 'wb') as out_file:\n",
    "                    shutil.copyfileobj(img_response.raw, out_file)\n",
    "                print(f\"Downloaded {img_filename}\")\n",
    "            else:\n",
    "                print(f\"Failed to download image for {celeb_name} from {img_url}. Status code: {img_response.status_code}\")\n",
    "        except Exception as e:\n",
    "            print(f\"Error downloading image {img_url}: {e}\")\n",
    "\n",
    "# Example usage\n",
    "celebs = [\"Tom Hanks\", \"Scarlett Johansson\", \"Will Smith\"]  # List of celebrities to scrape images for\n",
    "create_folder(\"celebrity_images\")\n",
    "\n",
    "for celeb in celebs:\n",
    "    print(f\"Fetching images for {celeb}...\")\n",
    "    urls = get_celebrity_image_urls(celeb)\n",
    "    if urls:\n",
    "        download_images(celeb, urls)\n",
    "    time.sleep(1)  # Sleep between requests\n"
   ]
  },
  {
   "cell_type": "code",
   "execution_count": 5,
   "metadata": {},
   "outputs": [
    {
     "name": "stdout",
     "output_type": "stream",
     "text": [
      "Image saved as output_image.jpg\n"
     ]
    }
   ],
   "source": [
    "import face_recognition\n",
    "import os\n",
    "from PIL import Image, ImageDraw, ImageFont\n",
    "\n",
    "# Load known celebrity faces from the \"celebrities\" folder\n",
    "def load_celebrities(celebrities_folder=\"celebrities\"):\n",
    "    known_face_encodings = []\n",
    "    known_face_names = []\n",
    "    \n",
    "    for filename in os.listdir(celebrities_folder):\n",
    "        if filename.endswith((\".jpg\", \".png\")):\n",
    "            path = os.path.join(celebrities_folder, filename)\n",
    "            # Load the celebrity image\n",
    "            image = face_recognition.load_image_file(path)\n",
    "            # Get the face encoding for the image\n",
    "            encoding = face_recognition.face_encodings(image)\n",
    "            if encoding:  # Make sure there's a face detected\n",
    "                known_face_encodings.append(encoding[0])\n",
    "                # Get the name from the filename (without extension)\n",
    "                known_face_names.append(os.path.splitext(filename)[0])\n",
    "    return known_face_encodings, known_face_names\n",
    "\n",
    "# Function to recognize celebrities in a new image\n",
    "def recognize_celebrities(input_image_path, known_face_encodings, known_face_names):\n",
    "    # Load the input image\n",
    "    image = face_recognition.load_image_file(input_image_path)\n",
    "    face_locations = face_recognition.face_locations(image)\n",
    "    face_encodings = face_recognition.face_encodings(image, face_locations)\n",
    "    \n",
    "    # Convert image to PIL format for drawing (optional)\n",
    "    pil_image = Image.fromarray(image)\n",
    "    draw = ImageDraw.Draw(pil_image)\n",
    "\n",
    "    # Optionally load a font\n",
    "    font = ImageFont.load_default()\n",
    "\n",
    "    for (top, right, bottom, left), face_encoding in zip(face_locations, face_encodings):\n",
    "        # See if the face is a match for any known celebrity\n",
    "        matches = face_recognition.compare_faces(known_face_encodings, face_encoding)\n",
    "        \n",
    "        name = \"Unknown\"\n",
    "        if True in matches:\n",
    "            # Find the closest match\n",
    "            match_index = matches.index(True)\n",
    "            name = known_face_names[match_index]\n",
    "            # Print the name of the recognized celebrity\n",
    "            print(f\"Recognized: {name}\")\n",
    "        \n",
    "        # Draw a box around the face\n",
    "        draw.rectangle(((left, top), (right, bottom)), outline=(0, 255, 0), width=2)\n",
    "        \n",
    "        # Calculate text size using textbbox and add a label below the face\n",
    "        text_size = draw.textbbox((0, 0), name, font=font)\n",
    "        text_width, text_height = text_size[2] - text_size[0], text_size[3] - text_size[1]\n",
    "        \n",
    "        # Draw a label with the name below the face\n",
    "        draw.rectangle(((left, bottom), (right, bottom + text_height + 10)), fill=(0, 255, 0), outline=(0, 255, 0))\n",
    "        draw.text((left + 6, bottom + 5), name, fill=(255, 255, 255), font=font)\n",
    "    \n",
    "    # Save the labeled image to a file\n",
    "    output_path = \"output_image.jpg\"\n",
    "    pil_image.save(output_path)\n",
    "    print(f\"Image saved as {output_path}\")\n",
    "\n",
    "# Main program\n",
    "if __name__ == \"__main__\":\n",
    "    # Load the known celebrities\n",
    "    known_face_encodings, known_face_names = load_celebrities()\n",
    "\n",
    "    # Path to the input image you want to recognize\n",
    "    input_image_path = \"/workspace/DS4002Project3/celebrities/Margot-Robbie/Margot-Robbie-1.png\"  # Change this to your test image path\n",
    "\n",
    "    # Recognize celebrities\n",
    "    recognize_celebrities(input_image_path, known_face_encodings, known_face_names)"
   ]
  }
 ],
 "metadata": {
  "kernelspec": {
   "display_name": "Python 3",
   "language": "python",
   "name": "python3"
  },
  "language_info": {
   "codemirror_mode": {
    "name": "ipython",
    "version": 3
   },
   "file_extension": ".py",
   "mimetype": "text/x-python",
   "name": "python",
   "nbconvert_exporter": "python",
   "pygments_lexer": "ipython3",
   "version": "3.12.6"
  }
 },
 "nbformat": 4,
 "nbformat_minor": 2
}
