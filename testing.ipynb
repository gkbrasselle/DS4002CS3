{
 "cells": [
  {
   "cell_type": "markdown",
   "metadata": {},
   "source": [
    "Testing the celeb recognition package\n",
    "\n",
    "https://pypi.org/project/celeb-detector/\n",
    "\n",
    "\n",
    "https://www.kaggle.com/code/vinayakshanawad/celebrity-face-recognition-vggface-model/notebook "
   ]
  },
  {
   "cell_type": "code",
   "execution_count": 4,
   "metadata": {},
   "outputs": [],
   "source": [
    "import os\n",
    "import random\n",
    "import shutil\n",
    "import face_recognition\n",
    "import numpy as np\n",
    "\n",
    "# Define paths for source, training, and test directories\n",
    "source_dir = \"celebrities\"\n",
    "train_dir = \"celebrities_train\"\n",
    "test_dir = \"celebrities_test\"\n",
    "\n",
    "# Set split ratio\n",
    "test_ratio = 0.2\n",
    "\n",
    "# Step 1: Split celebrity folders into training and test sets\n",
    "def split_data():\n",
    "    if not os.path.exists(train_dir):\n",
    "        os.makedirs(train_dir)\n",
    "    if not os.path.exists(test_dir):\n",
    "        os.makedirs(test_dir)\n",
    "    \n",
    "    # Iterate through each celebrity folder\n",
    "    for celeb_folder in os.listdir(source_dir):\n",
    "        celeb_path = os.path.join(source_dir, celeb_folder)\n",
    "        \n",
    "        if os.path.isdir(celeb_path):\n",
    "            # List all image files\n",
    "            images = [img for img in os.listdir(celeb_path) if img.endswith(('.jpg', '.jpeg'))]\n",
    "            random.shuffle(images)\n",
    "            \n",
    "            # Split images\n",
    "            split_index = int(len(images) * (1 - test_ratio))\n",
    "            train_images = images[:split_index]\n",
    "            test_images = images[split_index:]\n",
    "            \n",
    "            # Create directories in train/test folders\n",
    "            train_celeb_folder = os.path.join(train_dir, celeb_folder)\n",
    "            test_celeb_folder = os.path.join(test_dir, celeb_folder)\n",
    "            os.makedirs(train_celeb_folder, exist_ok=True)\n",
    "            os.makedirs(test_celeb_folder, exist_ok=True)\n",
    "            \n",
    "            # Move images to train and test folders\n",
    "            for img in train_images:\n",
    "                shutil.copy(os.path.join(celeb_path, img), train_celeb_folder)\n",
    "            for img in test_images:\n",
    "                shutil.copy(os.path.join(celeb_path, img), test_celeb_folder)\n",
    "\n",
    "# Step 2: Encode faces in the training set\n",
    "def encode_training_faces():\n",
    "    encodings = {}\n",
    "    \n",
    "    for celeb_folder in os.listdir(train_dir):\n",
    "        celeb_path = os.path.join(train_dir, celeb_folder)\n",
    "        if os.path.isdir(celeb_path):\n",
    "            celeb_encodings = []\n",
    "            \n",
    "            # Process each image\n",
    "            for img_name in os.listdir(celeb_path):\n",
    "                img_path = os.path.join(celeb_path, img_name)\n",
    "                img = face_recognition.load_image_file(img_path)\n",
    "                \n",
    "                # Get encodings (assuming one face per image)\n",
    "                encoding = face_recognition.face_encodings(img)\n",
    "                if encoding:\n",
    "                    celeb_encodings.append(encoding[0])\n",
    "            \n",
    "            # Save encodings for each celebrity\n",
    "            if celeb_encodings:\n",
    "                encodings[celeb_folder] = np.mean(celeb_encodings, axis=0)\n",
    "    \n",
    "    return encodings\n"
   ]
  },
  {
   "cell_type": "code",
   "execution_count": 19,
   "metadata": {},
   "outputs": [],
   "source": [
    "\n",
    "# Step 3: Identify a random celebrity photo from the test set\n",
    "def identify_random_test_image(encodings):\n",
    "    celeb_folder = random.choice(os.listdir(test_dir))\n",
    "    celeb_path = os.path.join(test_dir, celeb_folder)\n",
    "    test_image = random.choice(os.listdir(celeb_path))\n",
    "    test_image_path = os.path.join(celeb_path, test_image)\n",
    "    \n",
    "    # Load and encode test image\n",
    "    test_img = face_recognition.load_image_file(test_image_path)\n",
    "    test_encoding = face_recognition.face_encodings(test_img)\n",
    "    \n",
    "    if test_encoding:\n",
    "        test_encoding = test_encoding[0]\n",
    "        \n",
    "        # Compare with known encodings\n",
    "        results = face_recognition.compare_faces(\n",
    "            list(encodings.values()), test_encoding, tolerance=0.6\n",
    "        )\n",
    "        \n",
    "        # Find match\n",
    "        if True in results:\n",
    "            match_index = results.index(True)\n",
    "            matched_celebrity = list(encodings.keys())[match_index]\n",
    "            print(f\"Identified as: {matched_celebrity} from test image: {test_image_path}\")\n",
    "        else:\n",
    "            print(f\"No match found for {test_image_path}.\")\n",
    "    else:\n",
    "        print(f\"No face detected in test image {test_image_path}\")\n",
    "\n",
    "# Run steps\n",
    "split_data()\n",
    "celebrity_encodings = encode_training_faces()\n"
   ]
  },
  {
   "cell_type": "code",
   "execution_count": 52,
   "metadata": {},
   "outputs": [
    {
     "name": "stdout",
     "output_type": "stream",
     "text": [
      "No face detected in test image celebrities_test/Pedro-Pascal/58.jpg\n"
     ]
    }
   ],
   "source": [
    "\n",
    "identify_random_test_image(celebrity_encodings)\n"
   ]
  },
  {
   "cell_type": "code",
   "execution_count": null,
   "metadata": {},
   "outputs": [],
   "source": []
  }
 ],
 "metadata": {
  "kernelspec": {
   "display_name": "Python 3",
   "language": "python",
   "name": "python3"
  },
  "language_info": {
   "codemirror_mode": {
    "name": "ipython",
    "version": 3
   },
   "file_extension": ".py",
   "mimetype": "text/x-python",
   "name": "python",
   "nbconvert_exporter": "python",
   "pygments_lexer": "ipython3",
   "version": "3.12.6"
  }
 },
 "nbformat": 4,
 "nbformat_minor": 2
}
