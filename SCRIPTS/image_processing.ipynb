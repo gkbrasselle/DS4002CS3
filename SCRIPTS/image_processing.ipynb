{
 "cells": [
  {
   "cell_type": "markdown",
   "metadata": {},
   "source": [
    "# Processing the images to get more data for each celebrity:"
   ]
  },
  {
   "cell_type": "markdown",
   "metadata": {},
   "source": [
    "Packages needed:\n",
    "\n",
    "pip install numpy\n",
    "\n",
    "pip install tensorflow\n",
    "\n",
    "pip install scipy"
   ]
  },
  {
   "cell_type": "code",
   "execution_count": 10,
   "metadata": {},
   "outputs": [
    {
     "name": "stdout",
     "output_type": "stream",
     "text": [
      "Processing Will-Smith...\n",
      "Contents of Will-Smith folder: ['01.jpeg', '02.jpeg', '03.jpeg', '04.jpeg', '05.jpeg', '06.jpeg', '07.jpeg', '08.jpeg', '09.jpeg', '10.jpeg', '100.jpeg', '11.jpeg', '12.jpeg', '13.jpeg', '14.jpeg', '15.jpeg', '16.jpeg', '17.jpeg', '18.jpeg', '19.jpeg', '20.jpeg', '21.jpeg', '22.jpeg', '23.jpeg', '24.jpeg', '25.jpeg', '26.jpeg', '27.jpeg', '28.jpeg', '29.jpeg', '30.jpeg', '31.jpeg', '32.jpeg', '33.jpeg', '34.jpeg', '35.jpeg', '36.jpeg', '37.jpeg', '38.jpeg', '39.jpeg', '40.jpeg', '41.jpeg', '42.jpeg', '43.jpeg', '44.jpeg', '45.jpeg', '46.jpeg', '47.jpeg', '48.jpeg', '49.jpeg', '50.jpeg', '51.jpeg', '52.jpeg', '53.jpeg', '54.jpeg', '55.jpeg', '56.jpeg', '57.jpeg', '58.jpeg', '59.jpeg', '60.jpeg', '61.jpeg', '62.jpeg', '63.jpeg', '64.jpeg', '65.jpeg', '66.jpeg', '67.jpeg', '68.jpeg', '69.jpeg', '70.jpeg', '71.jpeg', '72.jpeg', '73.jpeg', '74.jpeg', '75.jpeg', '76.jpeg', '77.jpeg', '78.jpeg', '79.jpeg', '80.jpeg', '81.jpeg', '82.jpeg', '83.jpeg', '84.jpeg', '85.jpeg', '86.jpeg', '87.jpeg', '88.jpeg', '89.jpeg', '90.jpeg', '91.jpeg', '92.jpeg', '93.jpeg', '94.jpeg', '95.jpeg', '96.jpeg', '97.jpeg', '98.jpeg', '99.jpeg']\n",
      "Detected images for Will-Smith: ['01.jpeg', '02.jpeg', '03.jpeg', '04.jpeg', '05.jpeg', '06.jpeg', '07.jpeg', '08.jpeg', '09.jpeg', '10.jpeg', '100.jpeg', '11.jpeg', '12.jpeg', '13.jpeg', '14.jpeg', '15.jpeg', '16.jpeg', '17.jpeg', '18.jpeg', '19.jpeg', '20.jpeg', '21.jpeg', '22.jpeg', '23.jpeg', '24.jpeg', '25.jpeg', '26.jpeg', '27.jpeg', '28.jpeg', '29.jpeg', '30.jpeg', '31.jpeg', '32.jpeg', '33.jpeg', '34.jpeg', '35.jpeg', '36.jpeg', '37.jpeg', '38.jpeg', '39.jpeg', '40.jpeg', '41.jpeg', '42.jpeg', '43.jpeg', '44.jpeg', '45.jpeg', '46.jpeg', '47.jpeg', '48.jpeg', '49.jpeg', '50.jpeg', '51.jpeg', '52.jpeg', '53.jpeg', '54.jpeg', '55.jpeg', '56.jpeg', '57.jpeg', '58.jpeg', '59.jpeg', '60.jpeg', '61.jpeg', '62.jpeg', '63.jpeg', '64.jpeg', '65.jpeg', '66.jpeg', '67.jpeg', '68.jpeg', '69.jpeg', '70.jpeg', '71.jpeg', '72.jpeg', '73.jpeg', '74.jpeg', '75.jpeg', '76.jpeg', '77.jpeg', '78.jpeg', '79.jpeg', '80.jpeg', '81.jpeg', '82.jpeg', '83.jpeg', '84.jpeg', '85.jpeg', '86.jpeg', '87.jpeg', '88.jpeg', '89.jpeg', '90.jpeg', '91.jpeg', '92.jpeg', '93.jpeg', '94.jpeg', '95.jpeg', '96.jpeg', '97.jpeg', '98.jpeg', '99.jpeg']\n"
     ]
    }
   ],
   "source": [
    "import os\n",
    "import shutil\n",
    "from tensorflow.keras.preprocessing.image import ImageDataGenerator, load_img, img_to_array, array_to_img\n",
    "\n",
    "# Set paths\n",
    "base_path = \"/workspace/DS4002Project3/DATA/celebrities\"  # Original dataset path\n",
    "output_path = \"/workspace/DS4002Project3/DATA/celebrities_extra\"  # New folder to save augmented images\n",
    "\n",
    "# Clear the celebrities_extra folder if it exists\n",
    "if os.path.exists(output_path):\n",
    "    shutil.rmtree(output_path)  # Delete the entire folder and its contents\n",
    "os.makedirs(output_path, exist_ok=True)  # Recreate the empty folder\n",
    "\n",
    "# Data augmentation settings (generate exactly 3 versions per image)\n",
    "datagen = ImageDataGenerator(\n",
    "    rotation_range=40,\n",
    "    width_shift_range=0.2,\n",
    "    height_shift_range=0.2,\n",
    "    shear_range=0.2,\n",
    "    zoom_range=0.2,\n",
    "    horizontal_flip=True,\n",
    "    fill_mode='nearest'\n",
    ")\n",
    "\n",
    "# Loop through each celebrity folder and generate 3 new images for each of the 100 original images\n",
    "for celeb in os.listdir(base_path):\n",
    "    celeb_folder = os.path.join(base_path, celeb)\n",
    "    \n",
    "    # Debugging: Check if the \"Will-Smith\" folder exists and print contents\n",
    "    if celeb == \"Will-Smith\":\n",
    "        print(f\"Processing {celeb}...\")\n",
    "        print(f\"Contents of {celeb} folder: {os.listdir(celeb_folder)}\")  # Print the folder contents\n",
    "\n",
    "    save_folder = os.path.join(output_path, celeb)\n",
    "    os.makedirs(save_folder, exist_ok=True)  # Create sub-folder for each celebrity\n",
    "\n",
    "    # Detect images with .jpg, .jpeg, or .png extensions\n",
    "    images = [img for img in os.listdir(celeb_folder) if img.endswith(('.jpg', '.jpeg', '.png'))]\n",
    "    \n",
    "    # Debugging: Print out the images being detected for this celebrity\n",
    "    if celeb == \"Will-Smith\":\n",
    "        print(f\"Detected images for {celeb}: {images}\")\n",
    "\n",
    "    # Initialize the image index to start from 1\n",
    "    image_index = 1\n",
    "\n",
    "    # Save the original images (index 1-100) and create augmented versions (index 101-300)\n",
    "    for image_name in images:\n",
    "        img_path = os.path.join(celeb_folder, image_name)\n",
    "        img = load_img(img_path)\n",
    "        x = img_to_array(img)\n",
    "        x = x.reshape((1,) + x.shape)  # Reshape to (1, height, width, channels)\n",
    "\n",
    "        # Save the original image (index 1-100)\n",
    "        original_image_name = f\"{image_index:03}.jpg\"  # Format with leading zeros (001.jpg, 002.jpg)\n",
    "        original_image_path = os.path.join(save_folder, original_image_name)\n",
    "        img.save(original_image_path)\n",
    "        image_index += 1\n",
    "\n",
    "        # Generate exactly 3 augmented versions for each original image (index 101-300)\n",
    "        augmented_count = 0\n",
    "        for batch in datagen.flow(x, batch_size=1, save_to_dir=save_folder, save_prefix='', save_format='jpg'):\n",
    "            augmented_count += 1\n",
    "            # Name the augmented images as \"101\", \"102\", ..., \"300\"\n",
    "            new_image_name = f\"{image_index:03}.jpg\"  # Format with leading zeros\n",
    "            new_image_path = os.path.join(save_folder, new_image_name)\n",
    "\n",
    "            # Convert and save augmented image\n",
    "            new_img = array_to_img(batch[0])\n",
    "            new_img.save(new_image_path)\n",
    "\n",
    "            image_index += 1\n",
    "            if augmented_count >= 3:  # Stop after generating 3 versions for each image\n",
    "                break\n",
    "\n",
    "    # Remove any unwanted files that don't match the naming convention (1-300.jpg)\n",
    "    for filename in os.listdir(save_folder):\n",
    "        if not filename.endswith('.jpg'):\n",
    "            continue\n",
    "\n",
    "        # Ensure the filename is strictly 3 digits before the file extension\n",
    "        try:\n",
    "            file_index = int(filename.split('.')[0])  # Get the numeric part of the filename (e.g., 001, 002, ...)\n",
    "            if file_index < 1 or file_index > 300:\n",
    "                file_path = os.path.join(save_folder, filename)\n",
    "                os.remove(file_path)  # Remove unwanted files\n",
    "        except ValueError:\n",
    "            # Skip files that do not match the expected 3-digit format\n",
    "            file_path = os.path.join(save_folder, filename)\n",
    "            os.remove(file_path)\n",
    "\n",
    "    # Ensure exactly 300 images for each celebrity (100 original + 200 augmented)\n",
    "    files = os.listdir(save_folder)\n",
    "    if len(files) != 300:\n",
    "        print(f\"Warning: Expected 300 images for {celeb}, but got {len(files)} images.\")"
   ]
  }
 ],
 "metadata": {
  "kernelspec": {
   "display_name": "Python 3",
   "language": "python",
   "name": "python3"
  },
  "language_info": {
   "codemirror_mode": {
    "name": "ipython",
    "version": 3
   },
   "file_extension": ".py",
   "mimetype": "text/x-python",
   "name": "python",
   "nbconvert_exporter": "python",
   "pygments_lexer": "ipython3",
   "version": "3.12.6"
  }
 },
 "nbformat": 4,
 "nbformat_minor": 2
}
