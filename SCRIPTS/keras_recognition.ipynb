{
 "cells": [
  {
   "cell_type": "markdown",
   "metadata": {},
   "source": [
    "Tutorial for image recognition using keras:\n",
    "\n",
    "https://www.sitepoint.com/keras-face-detection-recognition/"
   ]
  },
  {
   "cell_type": "markdown",
   "metadata": {},
   "source": [
    "Install necessary libraries:\n",
    "\n",
    "pip install facenet-pytorch\n",
    "\n",
    "pip install numpy\n",
    "\n",
    "pip install pandas\n",
    "\n",
    "pip install scikit-learn"
   ]
  },
  {
   "cell_type": "markdown",
   "metadata": {},
   "source": [
    "## First, let's ensure that our image preprocessing was successful (i.e: that it generated all of the unique images that we wanted, with no duplicated facial embeddings)"
   ]
  },
  {
   "cell_type": "code",
   "execution_count": null,
   "metadata": {},
   "outputs": [
    {
     "name": "stdout",
     "output_type": "stream",
     "text": [
      "No duplicate images found.\n"
     ]
    }
   ],
   "source": [
    "import os\n",
    "from facenet_pytorch import MTCNN, InceptionResnetV1\n",
    "from sklearn.metrics.pairwise import cosine_similarity\n",
    "from PIL import Image\n",
    "\n",
    "# Initialize MTCNN (for face detection) and InceptionResnetV1 (for facial embeddings)\n",
    "mtcnn = MTCNN(keep_all=True)\n",
    "model = InceptionResnetV1(pretrained='vggface2').eval()\n",
    "\n",
    "# Function to generate facial encoding (embedding) for an image\n",
    "def get_face_encoding(image_path):\n",
    "    img = Image.open(image_path)\n",
    "    img_cropped = mtcnn(img)  # Detect faces in the image\n",
    "    if img_cropped is None:\n",
    "        return None  # No face detected, return None\n",
    "    img_embedding = model(img_cropped)  # Extract the facial embedding\n",
    "    return img_embedding.detach().numpy().flatten()  # Return as 1D array\n",
    "\n",
    "# Check similarity between two sample images\n",
    "image_path_1 = \"path_to_image_01.jpg\"\n",
    "image_path_2 = \"path_to_image_02.jpg\"\n",
    "\n",
    "encoding_1 = get_face_encoding(image_path_1)\n",
    "encoding_2 = get_face_encoding(image_path_2)\n",
    "\n",
    "if encoding_1 is not None and encoding_2 is not None:\n",
    "    similarity = cosine_similarity([encoding_1], [encoding_2])[0][0]\n",
    "    print(f\"Cosine similarity between {image_path_1} and {image_path_2}: {similarity:.4f}\")\n",
    "else:\n",
    "    print(\"Face not detected in one or both images.\")\n"
   ]
  },
  {
   "cell_type": "markdown",
   "metadata": {},
   "source": [
    "### This indicates that no two images in our dataset have the same embedding (facial encoding).\n",
    "\n",
    "## Let's choose two images that look very similar on which to test this. We will run a cosine similarity test, this time with images of Priyanka Chopra:"
   ]
  },
  {
   "cell_type": "code",
   "execution_count": null,
   "metadata": {},
   "outputs": [],
   "source": [
    "from facenet_pytorch import MTCNN, InceptionResnetV1\n",
    "from PIL import Image, ImageDraw\n",
    "import torch\n",
    "import numpy as np\n",
    "import matplotlib.pyplot as plt\n",
    "from scipy.spatial.distance import cosine\n",
    "\n",
    "# Initialize MTCNN and InceptionResnetV1\n",
    "mtcnn = MTCNN(keep_all=True)\n",
    "model = InceptionResnetV1(pretrained='vggface2').eval()\n",
    "\n",
    "# Function to detect faces and draw bounding boxes\n",
    "def draw_face_markings(image_path):\n",
    "    img = Image.open(image_path)\n",
    "    boxes, _ = mtcnn.detect(img)  # Detect faces and get bounding boxes\n",
    "    if boxes is not None:\n",
    "        draw = ImageDraw.Draw(img)\n",
    "        for box in boxes:\n",
    "            draw.rectangle([box[0], box[1], box[2], box[3]], outline='red', width=3)  # Correctly specify the coordinates\n",
    "    return img\n",
    "\n",
    "# Function to generate facial encoding\n",
    "def get_face_encoding(image_path):\n",
    "    img = Image.open(image_path)\n",
    "    img_cropped = mtcnn(img)  # Detect faces in the image\n",
    "    if img_cropped is None or len(img_cropped) == 0:\n",
    "        return None  # No face detected, return None\n",
    "    img_embedding = model(img_cropped[0].unsqueeze(0))  # Extract the facial embedding for the first detected face\n",
    "    return img_embedding.detach().numpy().flatten()  # Return as 1D array (512-dimensional)\n",
    "\n",
    "# Example image paths\n",
    "image_path_1 = \"/path/to/image\"\n",
    "image_path_2 = \"/path/to/image\"\n",
    "\n",
    "# Generate encodings\n",
    "encoding_1 = get_face_encoding(image_path_1)\n",
    "encoding_2 = get_face_encoding(image_path_2)\n",
    "\n",
    "# Check if both encodings are available\n",
    "if encoding_1 is not None and encoding_2 is not None:\n",
    "    # Compute cosine similarity\n",
    "    similarity = 1 - cosine(encoding_1, encoding_2)  # Cosine similarity\n",
    "    print(f\"Cosine Similarity: {similarity:.4f}\")\n",
    "else:\n",
    "    print(\"One or both images do not contain a detectable face.\")\n",
    "\n",
    "# Draw and display the images with face markings\n",
    "img1_with_boxes = draw_face_markings(image_path_1)\n",
    "img2_with_boxes = draw_face_markings(image_path_2)\n",
    "\n",
    "# Display images\n",
    "fig, axes = plt.subplots(1, 2, figsize=(10, 5))\n",
    "axes[0].imshow(img1_with_boxes)\n",
    "axes[0].set_title(\"Priyanka Chopra Image 1\")\n",
    "axes[0].axis(\"off\")\n",
    "\n",
    "axes[1].imshow(img2_with_boxes)\n",
    "axes[1].set_title(\"Priyanka Chopra Image 2\")\n",
    "axes[1].axis(\"off\")\n",
    "\n",
    "plt.show()\n"
   ]
  }
 ],
 "metadata": {
  "kernelspec": {
   "display_name": "Python 3 (ipykernel)",
   "language": "python",
   "name": "python3"
  },
  "language_info": {
   "codemirror_mode": {
    "name": "ipython",
    "version": 3
   },
   "file_extension": ".py",
   "mimetype": "text/x-python",
   "name": "python",
   "nbconvert_exporter": "python",
   "pygments_lexer": "ipython3",
   "version": "3.11.4"
  }
 },
 "nbformat": 4,
 "nbformat_minor": 4
}
