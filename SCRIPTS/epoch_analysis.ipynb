{
 "cells": [
  {
   "cell_type": "markdown",
   "id": "860b0d91",
   "metadata": {},
   "source": [
    "### Analyze identification accuracy results across epochs, saving to CSV files."
   ]
  },
  {
   "cell_type": "code",
   "execution_count": 15,
   "id": "de6d1119-0ac4-419e-872f-75a059dccd0f",
   "metadata": {
    "tags": []
   },
   "outputs": [],
   "source": [
    "import pandas as pd\n",
    "import numpy as np\n",
    "import matplotlib.pyplot as plt"
   ]
  },
  {
   "cell_type": "code",
   "execution_count": 9,
   "id": "32721feb-c550-4250-9d81-f297e158eb93",
   "metadata": {
    "tags": []
   },
   "outputs": [],
   "source": [
    "df=pd.read_csv(\"/path/to/epoch_results.csv\") # this is the file created in final_testing.ipynb"
   ]
  },
  {
   "cell_type": "code",
   "execution_count": null,
   "id": "3cd09cb1-ecab-48e0-baea-d19c9960952c",
   "metadata": {
    "tags": []
   },
   "outputs": [],
   "source": [
    "# create a dataframe which isolates the images which were misidentified (i.e: their predicted celebrity class does not matc their actual celebrity class)\n",
    "wrong_df = df[df[\"true_class\"] != df[\"predicted_class\"]]"
   ]
  },
  {
   "cell_type": "code",
   "execution_count": null,
   "id": "1c0f28b7-17a5-4d87-9592-7e79541cd57f",
   "metadata": {
    "tags": []
   },
   "outputs": [],
   "source": [
    "wrong_df.to_csv('incorrect_guesses.csv', index=False) # save to csv"
   ]
  },
  {
   "cell_type": "code",
   "execution_count": null,
   "id": "cc78c597-2e07-48b3-8d1c-db805ca3e7f2",
   "metadata": {
    "tags": []
   },
   "outputs": [],
   "source": [
    "# look at the number of wrong guesses that were made in each epoch. We expect that the number of guesses will decrease as the rounds progress,\n",
    "# due to the model's improved efficiency and accuracy.\n",
    "incorrect_per_epoch = wrong_df.groupby(\"epoch\").size().reset_index(name=\"wrong_guesses\")\n"
   ]
  },
  {
   "cell_type": "code",
   "execution_count": null,
   "id": "b42716ad-60c8-40aa-a7f5-9b412a032714",
   "metadata": {
    "tags": []
   },
   "outputs": [],
   "source": [
    "plt.figure(figsize=(24, 5))\n",
    "plt.plot(incorrect_per_epoch[\"epoch\"], incorrect_per_epoch[\"wrong_guesses\"], marker=\"o\", linestyle=\"-\", color=\"red\")\n",
    "plt.title(\"Number of Wrong Guesses Per Epoch\", fontsize=14)\n",
    "plt.xlabel(\"Epoch\", fontsize=12)\n",
    "plt.ylabel(\"Wrong Guesses\", fontsize=12)\n",
    "plt.grid(True, linestyle=\"--\", alpha=0.6)\n",
    "plt.xticks(incorrect_per_epoch[\"epoch\"])  # Ensure only epoch values are on the x-axis\n",
    "plt.tight_layout()\n",
    "\n",
    "# Show the plot\n",
    "plt.show()"
   ]
  },
  {
   "cell_type": "code",
   "execution_count": null,
   "id": "0d0c5554-5adb-4c93-adaa-70ea04157ef7",
   "metadata": {
    "tags": []
   },
   "outputs": [],
   "source": [
    "# now, let's isolate the incorrectly identified images for the final round (epoch 100)\n",
    "\n",
    "epoch_100_wrong = wrong_df[wrong_df[\"epoch\"] == 100]"
   ]
  },
  {
   "cell_type": "code",
   "execution_count": null,
   "id": "9e75b7bf-d8ca-4275-b9b8-6a64aa628770",
   "metadata": {
    "tags": []
   },
   "outputs": [
    {
     "data": {
      "text/html": [
       "<div>\n",
       "<style scoped>\n",
       "    .dataframe tbody tr th:only-of-type {\n",
       "        vertical-align: middle;\n",
       "    }\n",
       "\n",
       "    .dataframe tbody tr th {\n",
       "        vertical-align: top;\n",
       "    }\n",
       "\n",
       "    .dataframe thead th {\n",
       "        text-align: right;\n",
       "    }\n",
       "</style>\n",
       "<table border=\"1\" class=\"dataframe\">\n",
       "  <thead>\n",
       "    <tr style=\"text-align: right;\">\n",
       "      <th></th>\n",
       "      <th>epoch</th>\n",
       "      <th>filename</th>\n",
       "      <th>true_class</th>\n",
       "      <th>predicted_class</th>\n",
       "      <th>confidence</th>\n",
       "    </tr>\n",
       "  </thead>\n",
       "  <tbody>\n",
       "    <tr>\n",
       "      <th>198004</th>\n",
       "      <td>100</td>\n",
       "      <td>America-Ferrera/005.jpg</td>\n",
       "      <td>0</td>\n",
       "      <td>21</td>\n",
       "      <td>0.880575</td>\n",
       "    </tr>\n",
       "    <tr>\n",
       "      <th>198020</th>\n",
       "      <td>100</td>\n",
       "      <td>America-Ferrera/021.jpg</td>\n",
       "      <td>0</td>\n",
       "      <td>22</td>\n",
       "      <td>0.515396</td>\n",
       "    </tr>\n",
       "    <tr>\n",
       "      <th>198024</th>\n",
       "      <td>100</td>\n",
       "      <td>America-Ferrera/025.jpg</td>\n",
       "      <td>0</td>\n",
       "      <td>24</td>\n",
       "      <td>0.999873</td>\n",
       "    </tr>\n",
       "    <tr>\n",
       "      <th>198026</th>\n",
       "      <td>100</td>\n",
       "      <td>America-Ferrera/027.jpg</td>\n",
       "      <td>0</td>\n",
       "      <td>12</td>\n",
       "      <td>0.955455</td>\n",
       "    </tr>\n",
       "    <tr>\n",
       "      <th>198029</th>\n",
       "      <td>100</td>\n",
       "      <td>America-Ferrera/030.jpg</td>\n",
       "      <td>0</td>\n",
       "      <td>20</td>\n",
       "      <td>0.898988</td>\n",
       "    </tr>\n",
       "  </tbody>\n",
       "</table>\n",
       "</div>"
      ],
      "text/plain": [
       "        epoch                 filename  true_class  predicted_class  \\\n",
       "198004    100  America-Ferrera/005.jpg           0               21   \n",
       "198020    100  America-Ferrera/021.jpg           0               22   \n",
       "198024    100  America-Ferrera/025.jpg           0               24   \n",
       "198026    100  America-Ferrera/027.jpg           0               12   \n",
       "198029    100  America-Ferrera/030.jpg           0               20   \n",
       "\n",
       "        confidence  \n",
       "198004    0.880575  \n",
       "198020    0.515396  \n",
       "198024    0.999873  \n",
       "198026    0.955455  \n",
       "198029    0.898988  "
      ]
     },
     "execution_count": 23,
     "metadata": {},
     "output_type": "execute_result"
    }
   ],
   "source": [
    "\n",
    "epoch_100_wrong.head()"
   ]
  },
  {
   "cell_type": "code",
   "execution_count": null,
   "id": "66c44291-630c-486a-8620-f5a9dc2888f9",
   "metadata": {
    "tags": []
   },
   "outputs": [],
   "source": [
    "# save this to a csv. After a bit more processing, you will use this data to perform EDA on trends amongst the misidentified images.\n",
    "\n",
    "epoch_100_wrong.to_csv('incorrect_guesses_epoch_100.csv', index=False)"
   ]
  }
 ],
 "metadata": {
  "kernelspec": {
   "display_name": "Python 3 (ipykernel)",
   "language": "python",
   "name": "python3"
  },
  "language_info": {
   "codemirror_mode": {
    "name": "ipython",
    "version": 3
   },
   "file_extension": ".py",
   "mimetype": "text/x-python",
   "name": "python",
   "nbconvert_exporter": "python",
   "pygments_lexer": "ipython3",
   "version": "3.11.4"
  }
 },
 "nbformat": 4,
 "nbformat_minor": 5
}
